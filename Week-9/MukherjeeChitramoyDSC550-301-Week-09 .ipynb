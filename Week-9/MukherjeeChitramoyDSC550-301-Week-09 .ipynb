{
 "cells": [
  {
   "cell_type": "markdown",
   "id": "a67975cf",
   "metadata": {},
   "source": [
    "#### DSC550-T301 \n",
    "##### Chitramoy Mukherjee\n",
    "##### Week-9\n",
    "##### Date: 2/6/2024"
   ]
  },
  {
   "cell_type": "markdown",
   "id": "c39fe612",
   "metadata": {},
   "source": [
    "### Exercise - 9.2"
   ]
  },
  {
   "cell_type": "markdown",
   "id": "84fb97fb",
   "metadata": {},
   "source": [
    "####  Import the Loan Approval Data Set and ensure that it loaded properly"
   ]
  },
  {
   "cell_type": "code",
   "execution_count": 58,
   "id": "263fb672",
   "metadata": {},
   "outputs": [
    {
     "data": {
      "text/html": [
       "<div>\n",
       "<style scoped>\n",
       "    .dataframe tbody tr th:only-of-type {\n",
       "        vertical-align: middle;\n",
       "    }\n",
       "\n",
       "    .dataframe tbody tr th {\n",
       "        vertical-align: top;\n",
       "    }\n",
       "\n",
       "    .dataframe thead th {\n",
       "        text-align: right;\n",
       "    }\n",
       "</style>\n",
       "<table border=\"1\" class=\"dataframe\">\n",
       "  <thead>\n",
       "    <tr style=\"text-align: right;\">\n",
       "      <th></th>\n",
       "      <th>Loan_ID</th>\n",
       "      <th>Gender</th>\n",
       "      <th>Married</th>\n",
       "      <th>Dependents</th>\n",
       "      <th>Education</th>\n",
       "      <th>Self_Employed</th>\n",
       "      <th>ApplicantIncome</th>\n",
       "      <th>CoapplicantIncome</th>\n",
       "      <th>LoanAmount</th>\n",
       "      <th>Loan_Amount_Term</th>\n",
       "      <th>Credit_History</th>\n",
       "      <th>Property_Area</th>\n",
       "      <th>Loan_Status</th>\n",
       "    </tr>\n",
       "  </thead>\n",
       "  <tbody>\n",
       "    <tr>\n",
       "      <th>0</th>\n",
       "      <td>LP001002</td>\n",
       "      <td>Male</td>\n",
       "      <td>No</td>\n",
       "      <td>0</td>\n",
       "      <td>Graduate</td>\n",
       "      <td>No</td>\n",
       "      <td>5849</td>\n",
       "      <td>0.0</td>\n",
       "      <td>NaN</td>\n",
       "      <td>360.0</td>\n",
       "      <td>1.0</td>\n",
       "      <td>Urban</td>\n",
       "      <td>Y</td>\n",
       "    </tr>\n",
       "    <tr>\n",
       "      <th>1</th>\n",
       "      <td>LP001003</td>\n",
       "      <td>Male</td>\n",
       "      <td>Yes</td>\n",
       "      <td>1</td>\n",
       "      <td>Graduate</td>\n",
       "      <td>No</td>\n",
       "      <td>4583</td>\n",
       "      <td>1508.0</td>\n",
       "      <td>128.0</td>\n",
       "      <td>360.0</td>\n",
       "      <td>1.0</td>\n",
       "      <td>Rural</td>\n",
       "      <td>N</td>\n",
       "    </tr>\n",
       "    <tr>\n",
       "      <th>2</th>\n",
       "      <td>LP001005</td>\n",
       "      <td>Male</td>\n",
       "      <td>Yes</td>\n",
       "      <td>0</td>\n",
       "      <td>Graduate</td>\n",
       "      <td>Yes</td>\n",
       "      <td>3000</td>\n",
       "      <td>0.0</td>\n",
       "      <td>66.0</td>\n",
       "      <td>360.0</td>\n",
       "      <td>1.0</td>\n",
       "      <td>Urban</td>\n",
       "      <td>Y</td>\n",
       "    </tr>\n",
       "    <tr>\n",
       "      <th>3</th>\n",
       "      <td>LP001006</td>\n",
       "      <td>Male</td>\n",
       "      <td>Yes</td>\n",
       "      <td>0</td>\n",
       "      <td>Not Graduate</td>\n",
       "      <td>No</td>\n",
       "      <td>2583</td>\n",
       "      <td>2358.0</td>\n",
       "      <td>120.0</td>\n",
       "      <td>360.0</td>\n",
       "      <td>1.0</td>\n",
       "      <td>Urban</td>\n",
       "      <td>Y</td>\n",
       "    </tr>\n",
       "    <tr>\n",
       "      <th>4</th>\n",
       "      <td>LP001008</td>\n",
       "      <td>Male</td>\n",
       "      <td>No</td>\n",
       "      <td>0</td>\n",
       "      <td>Graduate</td>\n",
       "      <td>No</td>\n",
       "      <td>6000</td>\n",
       "      <td>0.0</td>\n",
       "      <td>141.0</td>\n",
       "      <td>360.0</td>\n",
       "      <td>1.0</td>\n",
       "      <td>Urban</td>\n",
       "      <td>Y</td>\n",
       "    </tr>\n",
       "  </tbody>\n",
       "</table>\n",
       "</div>"
      ],
      "text/plain": [
       "    Loan_ID Gender Married Dependents     Education Self_Employed  \\\n",
       "0  LP001002   Male      No          0      Graduate            No   \n",
       "1  LP001003   Male     Yes          1      Graduate            No   \n",
       "2  LP001005   Male     Yes          0      Graduate           Yes   \n",
       "3  LP001006   Male     Yes          0  Not Graduate            No   \n",
       "4  LP001008   Male      No          0      Graduate            No   \n",
       "\n",
       "   ApplicantIncome  CoapplicantIncome  LoanAmount  Loan_Amount_Term  \\\n",
       "0             5849                0.0         NaN             360.0   \n",
       "1             4583             1508.0       128.0             360.0   \n",
       "2             3000                0.0        66.0             360.0   \n",
       "3             2583             2358.0       120.0             360.0   \n",
       "4             6000                0.0       141.0             360.0   \n",
       "\n",
       "   Credit_History Property_Area Loan_Status  \n",
       "0             1.0         Urban           Y  \n",
       "1             1.0         Rural           N  \n",
       "2             1.0         Urban           Y  \n",
       "3             1.0         Urban           Y  \n",
       "4             1.0         Urban           Y  "
      ]
     },
     "execution_count": 58,
     "metadata": {},
     "output_type": "execute_result"
    }
   ],
   "source": [
    "import warnings \n",
    "warnings.filterwarnings('ignore')\n",
    "\n",
    "# Required python basic libraries \n",
    "\n",
    "import pandas as pd\n",
    "import numpy as np\n",
    "from sklearn.model_selection import train_test_split\n",
    "from sklearn.linear_model import LinearRegression\n",
    "from sklearn.metrics import r2_score, mean_squared_error\n",
    "from sklearn.decomposition import PCA\n",
    "from sklearn.impute import SimpleImputer\n",
    "from sklearn.compose import ColumnTransformer\n",
    "from sklearn.preprocessing import OneHotEncoder\n",
    "from sklearn.preprocessing import StandardScaler\n",
    "from math import sqrt\n",
    "from sklearn.preprocessing import MinMaxScaler\n",
    "from sklearn.tree import DecisionTreeClassifier\n",
    "from sklearn.preprocessing import LabelEncoder\n",
    "from sklearn.metrics import accuracy_score, confusion_matrix\n",
    "import seaborn as sns\n",
    "import matplotlib.pyplot as plt\n",
    "from sklearn.feature_selection import SelectKBest, chi2\n",
    "from sklearn.tree import plot_tree\n",
    "from sklearn.model_selection import train_test_split\n",
    "from sklearn.neighbors import KNeighborsClassifier\n",
    "from sklearn.pipeline import Pipeline\n",
    "from sklearn.metrics import accuracy_score\n",
    "from sklearn.model_selection import train_test_split, GridSearchCV\n",
    "from sklearn.linear_model import LogisticRegression\n",
    "from sklearn.ensemble import RandomForestClassifier\n",
    "\n",
    "#Required python visualization libraries\n",
    "\n",
    "# import missingno as msno\n",
    "import matplotlib\n",
    "import matplotlib.pyplot as plt\n",
    "\n",
    "def download(url):\n",
    "    filename = basename(url)\n",
    "    if not exists(filename):\n",
    "        from urllib.request import urlretrieve\n",
    "\n",
    "        local, _ = urlretrieve(url, filename)\n",
    "        print(\"Downloaded \" + local)\n",
    "\n",
    "### Reading the mxmh_survey_results.csv dataset\n",
    "loan_df = pd.read_csv(\"C://Users//14024//OneDrive//Desktop//MS-DSC//DSC-550/Week-9//Loan_Train.csv\")\n",
    "\n",
    "# Check first 5 rows of the dataset \n",
    "loan_df.head()\n"
   ]
  },
  {
   "cell_type": "markdown",
   "id": "4d9be31d",
   "metadata": {},
   "source": [
    "#### Drop the \"Loan_ID\" column and drop any rows with missing data and Convert the categorical features into dummy variables."
   ]
  },
  {
   "cell_type": "code",
   "execution_count": 59,
   "id": "1fbb4f22",
   "metadata": {
    "scrolled": true
   },
   "outputs": [
    {
     "name": "stdout",
     "output_type": "stream",
     "text": [
      "  Gender Married Dependents     Education Self_Employed  ApplicantIncome  \\\n",
      "1   Male     Yes          1      Graduate            No             4583   \n",
      "2   Male     Yes          0      Graduate           Yes             3000   \n",
      "3   Male     Yes          0  Not Graduate            No             2583   \n",
      "4   Male      No          0      Graduate            No             6000   \n",
      "5   Male     Yes          2      Graduate           Yes             5417   \n",
      "\n",
      "   CoapplicantIncome  LoanAmount  Loan_Amount_Term  Credit_History  \\\n",
      "1             1508.0       128.0             360.0             1.0   \n",
      "2                0.0        66.0             360.0             1.0   \n",
      "3             2358.0       120.0             360.0             1.0   \n",
      "4                0.0       141.0             360.0             1.0   \n",
      "5             4196.0       267.0             360.0             1.0   \n",
      "\n",
      "  Property_Area Loan_Status  \n",
      "1         Rural           N  \n",
      "2         Urban           Y  \n",
      "3         Urban           Y  \n",
      "4         Urban           Y  \n",
      "5         Urban           Y  \n"
     ]
    }
   ],
   "source": [
    "# Drop the \"Load_ID\" column\n",
    "loan_df = loan_df.drop(\"Loan_ID\", axis=1)\n",
    "\n",
    "# Drop rows with missing data\n",
    "df = loan_df.dropna()\n",
    "\n",
    "# Display the first few rows of the DataFrame with dummy variables\n",
    "print(df.head())"
   ]
  },
  {
   "cell_type": "code",
   "execution_count": 60,
   "id": "01e9367d",
   "metadata": {},
   "outputs": [
    {
     "name": "stdout",
     "output_type": "stream",
     "text": [
      "   ApplicantIncome  CoapplicantIncome  LoanAmount  Loan_Amount_Term  \\\n",
      "1             4583             1508.0       128.0             360.0   \n",
      "2             3000                0.0        66.0             360.0   \n",
      "3             2583             2358.0       120.0             360.0   \n",
      "4             6000                0.0       141.0             360.0   \n",
      "5             5417             4196.0       267.0             360.0   \n",
      "\n",
      "   Credit_History  Gender_Male  Married_Yes  Dependents_1  Dependents_2  \\\n",
      "1             1.0         True         True          True         False   \n",
      "2             1.0         True         True         False         False   \n",
      "3             1.0         True         True         False         False   \n",
      "4             1.0         True        False         False         False   \n",
      "5             1.0         True         True         False          True   \n",
      "\n",
      "   Dependents_3+  Education_Not Graduate  Self_Employed_Yes  \\\n",
      "1          False                   False              False   \n",
      "2          False                   False               True   \n",
      "3          False                    True              False   \n",
      "4          False                   False              False   \n",
      "5          False                   False               True   \n",
      "\n",
      "   Property_Area_Semiurban  Property_Area_Urban  Loan_Status_Y  \n",
      "1                    False                False          False  \n",
      "2                    False                 True           True  \n",
      "3                    False                 True           True  \n",
      "4                    False                 True           True  \n",
      "5                    False                 True           True  \n"
     ]
    }
   ],
   "source": [
    "# Identify categorical columns\n",
    "categorical_columns = df.select_dtypes(include=['object']).columns\n",
    "\n",
    "# Create dummy variables for categorical columns\n",
    "df_dummies = pd.get_dummies(df, columns=categorical_columns, drop_first=True)\n",
    "\n",
    "# Display the first few rows of the DataFrame with dummy variables\n",
    "print(df_dummies.head())"
   ]
  },
  {
   "cell_type": "markdown",
   "id": "5767a269",
   "metadata": {},
   "source": [
    "####  Split the data into a training and test set, where the “Loan_Status” column is the target"
   ]
  },
  {
   "cell_type": "code",
   "execution_count": 61,
   "id": "4652538d",
   "metadata": {},
   "outputs": [
    {
     "name": "stdout",
     "output_type": "stream",
     "text": [
      "Training set shape: (384, 11) (384,)\n",
      "Test set shape: (96, 11) (96,)\n"
     ]
    }
   ],
   "source": [
    "# Identify features (X) and target variable (y)\n",
    "X = df.drop(columns=['Loan_Status'])\n",
    "y = df['Loan_Status']\n",
    "\n",
    "# Split the data into training and test sets\n",
    "X_train, X_test, y_train, y_test = train_test_split(X, y, test_size=0.2, random_state=42)\n",
    "\n",
    "# Display the shape of the training and test sets\n",
    "print(\"Training set shape:\", X_train.shape, y_train.shape)\n",
    "print(\"Test set shape:\", X_test.shape, y_test.shape)\n"
   ]
  },
  {
   "cell_type": "markdown",
   "id": "83fada14",
   "metadata": {},
   "source": [
    "#### Create a pipeline with a min-max scaler and a KNN classifier.Fit a default KNN classifier to the data with this pipeline. Report the model accuracy on the test set. "
   ]
  },
  {
   "cell_type": "code",
   "execution_count": 62,
   "id": "8d5095a7",
   "metadata": {},
   "outputs": [
    {
     "name": "stdout",
     "output_type": "stream",
     "text": [
      "Accuracy: 0.78125\n"
     ]
    }
   ],
   "source": [
    "# Identify the numerical and categorical columns\n",
    "numerical_features = X.select_dtypes(include=['number']).columns\n",
    "categorical_features = X.select_dtypes(include=['object']).columns\n",
    "\n",
    "# Identify categorical columns in the dataset\n",
    "categorical_columns = X_train.select_dtypes(include=['object']).columns\n",
    "\n",
    "# Create a column transformer to apply different preprocessing to numerical and categorical columns\n",
    "preprocessor = ColumnTransformer(\n",
    "    transformers=[\n",
    "        ('num', MinMaxScaler(), numerical_features),\n",
    "        ('cat', OneHotEncoder(), categorical_columns)\n",
    "    ])\n",
    "\n",
    "# Create a pipeline with a Min-Max Scaler, One-Hot Encoder, and a KNN Classifier\n",
    "pipeline = Pipeline([\n",
    "    ('preprocessor', preprocessor),    # Step 1: Preprocessing\n",
    "    ('Classifier', KNeighborsClassifier())     # Step 2: KNN Classifier\n",
    "])\n",
    "\n",
    "# Fit the pipeline on the training data\n",
    "pipeline.fit(X_train, y_train)\n",
    "\n",
    "# predict the test set\n",
    "y_pred = pipeline.predict(X_test)\n",
    "\n",
    "# Calculate and report the model accuracy on the test set\n",
    "accuracy = accuracy_score(y_test, y_pred)\n",
    "print(\"Accuracy:\",accuracy)"
   ]
  },
  {
   "cell_type": "markdown",
   "id": "58d62d5e",
   "metadata": {},
   "source": [
    "#### Create a search space for your KNN classifier where your “n_neighbors” parameter varies from 1 to 10. "
   ]
  },
  {
   "cell_type": "code",
   "execution_count": 63,
   "id": "d61d54f0",
   "metadata": {},
   "outputs": [
    {
     "data": {
      "text/plain": [
       "0.78125"
      ]
     },
     "execution_count": 63,
     "metadata": {},
     "output_type": "execute_result"
    }
   ],
   "source": [
    "# Create a ColumnTransformer to preprocess numerical and categorical features separately\n",
    "preprocessor = ColumnTransformer(\n",
    "    transformers=[\n",
    "        ('num', MinMaxScaler(), numerical_features),\n",
    "        ('cat', OneHotEncoder(), categorical_columns)\n",
    "    ])\n",
    "\n",
    "# Create a pipeline with a Min-Max Scaler, One-Hot Encoder, and a KNN Classifier\n",
    "pipeline = Pipeline([\n",
    "    ('preprocessor', preprocessor),    # Step 1: Preprocessing\n",
    "    ('Classifier', KNeighborsClassifier())     # Step 2: KNN Classifier\n",
    "])\n",
    "\n",
    "# Create a search space for the KNN classifier\n",
    "param_grid = {\n",
    "    'Classifier__n_neighbors': list(range(1, 11))\n",
    "}\n",
    "\n",
    "# Create a GridSearchCV object\n",
    "grid_search = GridSearchCV(pipeline, param_grid, cv=5, scoring='accuracy')\n",
    "\n",
    "# Fit the grid search to the training data\n",
    "grid_search.fit(X_train, y_train)\n",
    "\n",
    "# Get the best parameters and model accuracy\n",
    "best_n_neighbours = grid_search.best_params_['Classifier__n_neighbors']\n",
    "\n",
    "# predict on the test set using best model\n",
    "y_pred = grid_search.predict(X_test)\n",
    "\n",
    "#Accuracy\n",
    "accuracy"
   ]
  },
  {
   "cell_type": "markdown",
   "id": "31b0665c",
   "metadata": {},
   "source": [
    "#### Fit a grid search with your pipeline, search space, and 5-fold cross-validation to find the best value for the “n_neighbors” parameter. Find the accuracy of the grid search best model on the test set."
   ]
  },
  {
   "cell_type": "code",
   "execution_count": 64,
   "id": "e91f23ea",
   "metadata": {},
   "outputs": [
    {
     "name": "stdout",
     "output_type": "stream",
     "text": [
      "Best n_neighbours parameter: 9\n",
      "Accuracy with Best Estimator: 0.75\n"
     ]
    }
   ],
   "source": [
    "# Create a ColumnTransformer to preprocess numerical and categorical features separately\n",
    "preprocessor = ColumnTransformer(\n",
    "    transformers=[\n",
    "        ('num', MinMaxScaler(), numerical_features),\n",
    "        ('cat', OneHotEncoder(), categorical_columns)\n",
    "    ])\n",
    "\n",
    "# Create a pipeline with a Min-Max Scaler, One-Hot Encoder, and a KNN Classifier\n",
    "pipeline = Pipeline([\n",
    "    ('preprocessor', preprocessor),    # Step 1: Preprocessing\n",
    "    ('Classifier', KNeighborsClassifier())     # Step 2: KNN Classifier\n",
    "])\n",
    "\n",
    "# Define the search space for n_neighbours parameter\n",
    "param_grid = {'Classifier__n_neighbors': [1,3,5,7,9]}\n",
    "\n",
    "grid_search = GridSearchCV(pipeline, param_grid, cv=5, scoring='accuracy')\n",
    "grid_search.fit(X_train, y_train)\n",
    "\n",
    "# Step 9: Find the best model from the grid search\n",
    "best_n_neighbours = grid_search.best_params_['Classifier__n_neighbors']\n",
    "\n",
    "# Step 10: Find the accuracy of the grid search best model on the test set\n",
    "y_pred = grid_search.predict(X_test)\n",
    "\n",
    "# Evaluate the accuracy \n",
    "accuracy = accuracy_score(y_test, y_pred)\n",
    "print(f\"Best n_neighbours parameter: {best_n_neighbours}\")\n",
    "print(f\"Accuracy with Best Estimator:\", accuracy)"
   ]
  },
  {
   "cell_type": "markdown",
   "id": "86cbcff0",
   "metadata": {},
   "source": [
    "#### Repeat steps 6 and 7 with the same pipeline, but expand your search space to include logistic regression and random forest models with the hyperparameter values"
   ]
  },
  {
   "cell_type": "code",
   "execution_count": 66,
   "id": "8e1f9da9",
   "metadata": {},
   "outputs": [
    {
     "name": "stdout",
     "output_type": "stream",
     "text": [
      "Best Classifier: LogisticRegression(C=10)\n",
      "Best Hyperparameters: {'C': 10, 'max_iter': 100}\n",
      "Model Accuracy on Test Set: 0.8229166666666666\n"
     ]
    }
   ],
   "source": [
    "# Create a pipeline with the preprocessor and a classifier\n",
    "pipeline = Pipeline([\n",
    "    ('preprocessor', preprocessor),\n",
    "    ('classifier', None)  # Placeholder for the classifier\n",
    "])\n",
    "\n",
    "# Define the search space for classifiers and their hyperparameters\n",
    "param_grid = [\n",
    "    {\n",
    "        'classifier': [KNeighborsClassifier()],\n",
    "        'classifier__n_neighbors': range(1, 11)\n",
    "    },\n",
    "    {\n",
    "        'classifier': [LogisticRegression()],\n",
    "        'classifier__C': [0.1, 1, 10],\n",
    "        'classifier__max_iter': [100, 200, 300]\n",
    "    },\n",
    "    {\n",
    "        'classifier': [RandomForestClassifier()],\n",
    "        'classifier__n_estimators': [50, 100, 150],\n",
    "        'classifier__max_depth': [None, 10, 20],\n",
    "        'classifier__min_samples_split': [2, 5, 10]\n",
    "    }\n",
    "]\n",
    "\n",
    "# Create the GridSearchCV object\n",
    "grid_search = GridSearchCV(pipeline, param_grid, cv=5, scoring='accuracy')\n",
    "\n",
    "# Fit the GridSearchCV object on the training data\n",
    "grid_search.fit(X_train, y_train)\n",
    "\n",
    "# Get the best classifier and hyperparameters\n",
    "best_classifier = grid_search.best_params_['classifier']\n",
    "best_hyperparameters = {key.replace('classifier__', ''): value for key, value in grid_search.best_params_.items() if 'classifier__' in key}\n",
    "\n",
    "# Predict on the test set using the best model\n",
    "y_pred = grid_search.predict(X_test)\n",
    "\n",
    "# Evaluate the accuracy\n",
    "accuracy = accuracy_score(y_test, y_pred)\n",
    "print(f\"Best Classifier: {best_classifier}\")\n",
    "print(f\"Best Hyperparameters: {best_hyperparameters}\")\n",
    "print(\"Model Accuracy on Test Set:\", accuracy)\n"
   ]
  },
  {
   "cell_type": "markdown",
   "id": "d3c16384",
   "metadata": {},
   "source": [
    "#### What are the best model and hyperparameters found in the grid search? Find the accuracy of this model on the test set."
   ]
  },
  {
   "cell_type": "code",
   "execution_count": 67,
   "id": "d95cc852",
   "metadata": {},
   "outputs": [
    {
     "name": "stdout",
     "output_type": "stream",
     "text": [
      "Best Classifier: LogisticRegression(C=10)\n",
      "Best Hyperparameters: {'C': 10, 'max_iter': 100}\n",
      "Model Accuracy on Test Set: 0.8229166666666666\n"
     ]
    }
   ],
   "source": [
    "# Get the best classifier and hyperparameters\n",
    "best_classifier = grid_search.best_params_['classifier']\n",
    "best_hyperparameters = {key.replace('classifier__', ''): value for key, value in grid_search.best_params_.items() if 'classifier__' in key}\n",
    "\n",
    "# Predict on the test set using the best model\n",
    "y_pred = grid_search.predict(X_test)\n",
    "\n",
    "# Evaluate the accuracy\n",
    "accuracy = accuracy_score(y_test, y_pred)\n",
    "print(f\"Best Classifier: {best_classifier}\")\n",
    "print(f\"Best Hyperparameters: {best_hyperparameters}\")\n",
    "print(\"Model Accuracy on Test Set:\", accuracy)\n",
    "\n",
    "# Overall result is not much different but result compared to default model has improved."
   ]
  },
  {
   "cell_type": "markdown",
   "id": "cd6de39d",
   "metadata": {},
   "source": [
    "#### Summarize your results.\n",
    "1.   The initial steps involved data preparation, including handling missing values and encoding categorical variables.\n",
    "\n",
    "2.   The default KNN classifier was used to establish a baseline accuracy on the test set.\n",
    "\n",
    "3.   The grid search for the KNN classifier helped identify the best value for the \"n_neighbors\" parameter, potentially improving the model's performance. In our solution, we have we used GridSearchCV to conduct five-fold cross-validation on KNN classifier with different value of K. When that is completed , we can see the K that produces the best model have value 9. \n",
    "\n",
    "4. Model Accuracy with Best Parameters is 78.12% and Accuracy of the Best Model on Test Set: 75.00%.This accuracy represents the performance of the model on the validation set after the hyperparameter tuning.The validation set is typically a subset of the training data that is reserved for fine-tuning the model.An accuracy of 78.12% suggests that the model, with the tuned hyperparameters, correctly predicted the target variable for approximately 78.12% of the instances in the validation set.An accuracy of 75.00% indicates that the model performed well on new, unseen data, correctly predicting the target variable for approximately 75% of the instances in the test set.The fact that the accuracy on the test set is slightly higher than the accuracy with the best parameters on the validation set is a positive sign, suggesting that the model generalizes well to new data.The overall result suggest that the hyperparameter tuning process, which involved optimizing the \"n_neighbors\" parameter for the KNN model, contributed to an improvement in the model's predictive performance. The model appears to generalize well to new, unseen data based on the higher accuracy observed on the test set compared to the validation set accuracy with the best parameters.\n",
    "\n",
    "5.   After employing the grid search across Logistic regression, KNN and random forest, Logistic regressiopn looks like the optimal classifier.Identified hyperparameters include a C value of 10 and max iteration of 100. Model accuarcy increased to 82% on test dataset.\n",
    "\n",
    "6.   The best model and hyperparameters were identified based on the grid search results, and the accuracy of this model on the test set was reported."
   ]
  }
 ],
 "metadata": {
  "kernelspec": {
   "display_name": "Python 3 (ipykernel)",
   "language": "python",
   "name": "python3"
  },
  "language_info": {
   "codemirror_mode": {
    "name": "ipython",
    "version": 3
   },
   "file_extension": ".py",
   "mimetype": "text/x-python",
   "name": "python",
   "nbconvert_exporter": "python",
   "pygments_lexer": "ipython3",
   "version": "3.11.5"
  }
 },
 "nbformat": 4,
 "nbformat_minor": 5
}
